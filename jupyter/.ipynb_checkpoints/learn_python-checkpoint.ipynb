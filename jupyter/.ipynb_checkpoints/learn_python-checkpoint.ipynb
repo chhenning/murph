{
 "cells": [
  {
   "cell_type": "markdown",
   "metadata": {},
   "source": [
    "# Let's learn python with jupyter\n",
    "\n",
    "A few handy keystrokes:\n",
    "\n",
    "* Ctrl+Shift+P will show the commands palette\n",
    "\n",
    "First import some packages"
   ]
  },
  {
   "cell_type": "code",
   "execution_count": 1,
   "metadata": {},
   "outputs": [],
   "source": [
    "import numpy as np\n",
    "import matplotlib.pyplot as plt"
   ]
  },
  {
   "cell_type": "markdown",
   "metadata": {},
   "source": [
    "In jupyter the alias `np` can be reused in the cells below. Let's create an array of 9 random values."
   ]
  },
  {
   "cell_type": "code",
   "execution_count": 13,
   "metadata": {},
   "outputs": [
    {
     "name": "stdout",
     "output_type": "stream",
     "text": [
      "[ 0.21059459  0.58262727  0.57503926  0.40258151  0.44747283  0.72684153\n",
      "  0.39767687  0.01039433  0.81329486]\n",
      "my random bit array: [0 1 1 1 0 1 0 0 0 1 1 0 1 1 1 1 1 0 0 1]\n"
     ]
    }
   ],
   "source": [
    "a = np.random.rand(9)\n",
    "print(a)\n",
    "\n",
    "# uniform distribution with 20 random integers in the range of [0,1]\n",
    "b = np.random.randint(2, size=20)\n",
    "\n",
    "# print a prefix before an array\n",
    "print('my random bit array: ', end=\"\")\n",
    "print(b)"
   ]
  },
  {
   "cell_type": "code",
   "execution_count": 14,
   "metadata": {},
   "outputs": [],
   "source": [
    "c = np.random.randint(0,200,(16,16))"
   ]
  },
  {
   "cell_type": "code",
   "execution_count": 15,
   "metadata": {},
   "outputs": [
    {
     "data": {
      "image/png": "[encoded data removed]",
      "text/plain": [
       "<matplotlib.figure.Figure at 0x1e556a4ce10>"
      ]
     },
     "metadata": {},
     "output_type": "display_data"
    }
   ],
   "source": [
    "plt.imshow(c, cmap='hot')\n",
    "plt.show()"
   ]
  },
  {
   "cell_type": "code",
   "execution_count": 21,
   "metadata": {},
   "outputs": [
    {
     "data": {
      "image/png": "[encoded data removed]",
      "text/plain": [
       "<matplotlib.figure.Figure at 0x26cff757c88>"
      ]
     },
     "metadata": {},
     "output_type": "display_data"
    }
   ],
   "source": [
    "grid = np.random.randint(2,size=(10,10))\n",
    "plt.matshow(grid)\n",
    "plt.show()"
   ]
  },
  {
   "cell_type": "code",
   "execution_count": 24,
   "metadata": {},
   "outputs": [],
   "source": [
    "sdr = np.random.randint(2, size=20)\n",
    "\n",
    "\n"
   ]
  },
  {
   "cell_type": "markdown",
   "metadata": {},
   "source": [
    "# Classes"
   ]
  },
  {
   "cell_type": "code",
   "execution_count": 16,
   "metadata": {},
   "outputs": [
    {
     "name": "stdout",
     "output_type": "stream",
     "text": [
      "<__main__.Employee object at 0x000001E558AF2908>\n",
      "<__main__.Employee object at 0x000001E558AF2908>\n"
     ]
    }
   ],
   "source": [
    "# empty class\n",
    "class Employee :\n",
    "    pass\n",
    "\n",
    "# class instance\n",
    "empl_1 = Employee()\n",
    "empl_2 = Employee()\n",
    "\n",
    "print(empl_1)\n",
    "\n",
    "empl_1.first = 'Tom'\n",
    "empl_1.last = 'Waits'\n",
    "\n",
    "print(empl_1)\n"
   ]
  },
  {
   "cell_type": "code",
   "execution_count": 14,
   "metadata": {},
   "outputs": [
    {
     "name": "stdout",
     "output_type": "stream",
     "text": [
      "Tom Waits\n",
      "Tom Seller\n",
      "69\n",
      "71\n",
      "{'first': 'Tom', 'last': 'Waits', 'pay': 71}\n",
      "{'__module__': '__main__', '__init__': <function Employee.__init__ at 0x000002674FCD99D8>, 'fullname': <function Employee.fullname at 0x000002674FCD9950>, 'apply_raise': <function Employee.apply_raise at 0x000002674FCD9488>, 'raise_amount': 1.04, 'set_raise_amount': <classmethod object at 0x000002674FBD3518>, 'from_string': <classmethod object at 0x000002674FBD3860>, 'is_valid_pay': <staticmethod object at 0x000002674FBD3198>, '__dict__': <attribute '__dict__' of 'Employee' objects>, '__weakref__': <attribute '__weakref__' of 'Employee' objects>, '__doc__': None}\n",
      "<__main__.Employee object at 0x000002674FC02358>\n",
      "False\n"
     ]
    }
   ],
   "source": [
    "# Python OOP Tutorial 2: Class Variables\n",
    "# https://www.youtube.com/watch?v=BJ-VvGyQxho\n",
    "class Employee:\n",
    "\n",
    "    # constructor with attributes\n",
    "    def __init__(self, first, last, pay):\n",
    "        self.first = first\n",
    "        self.last = last\n",
    "        self.pay = pay\n",
    "\n",
    "    # action\n",
    "    def fullname(self):\n",
    "        return '{} {}'.format(self.first, self.last)\n",
    "    \n",
    "    def apply_raise(self):\n",
    "        self.pay = int(self.pay * Employee.raise_amount)\n",
    "   \n",
    "    # class variable (static member)\n",
    "    raise_amount = 1.04\n",
    "    \n",
    "    # class method operates on classes, the first parameter is a class and should be called 'cls'\n",
    "    @classmethod\n",
    "    def set_raise_amount(cls, amount):\n",
    "        cls.raise_amount = amount\n",
    "\n",
    "    # alternate constructor\n",
    "    @classmethod\n",
    "    def from_string(cls, s):\n",
    "        first,last,pay= s.split('-');\n",
    "        return cls(first,last,pay)\n",
    "    \n",
    "    # static member don't use any class stuff but have a logical connection with the class\n",
    "    @staticmethod\n",
    "    def is_valid_pay(pay):\n",
    "        return True if (pay > 0 and pay < 100) else False;\n",
    "        \n",
    "# create a few instances        \n",
    "e = Employee('Tom', 'Waits', pay=69)        \n",
    "f = Employee(last='Seller', first='Tom', pay=99)\n",
    "print('{} {}'.format(e.first, e.last))\n",
    "print(f.fullname())\n",
    "\n",
    "print(e.pay)\n",
    "e.apply_raise()\n",
    "print(e.pay)\n",
    "\n",
    "print(e.__dict__)\n",
    "print(Employee.__dict__)\n",
    "\n",
    "# override the class variable\n",
    "Employee.set_raise_amount(1.1)\n",
    "\n",
    "\n",
    "g = Employee.from_string('christ-cornell-33')\n",
    "print(g)\n",
    "\n",
    "# 120 is not a valid pay\n",
    "print(Employee.is_valid_pay(120))\n",
    "\n",
    "\n",
    "\n",
    "\n"
   ]
  }
 ],
 "metadata": {
  "kernelspec": {
   "display_name": "Python 3",
   "language": "python",
   "name": "python3"
  },
  "language_info": {
   "codemirror_mode": {
    "name": "ipython",
    "version": 3
   },
   "file_extension": ".py",
   "mimetype": "text/x-python",
   "name": "python",
   "nbconvert_exporter": "python",
   "pygments_lexer": "ipython3",
   "version": "3.6.3"
  }
 },
 "nbformat": 4,
 "nbformat_minor": 2
}
