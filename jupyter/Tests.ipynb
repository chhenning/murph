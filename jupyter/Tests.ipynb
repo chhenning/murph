{
 "cells": [
  {
   "cell_type": "code",
   "execution_count": 1,
   "metadata": {},
   "outputs": [
    {
     "name": "stdout",
     "output_type": "stream",
     "text": [
      "Hello World\n"
     ]
    }
   ],
   "source": [
    "print('Hello World')"
   ]
  },
  {
   "cell_type": "markdown",
   "metadata": {},
   "source": [
    "# Hello Chaper 1\n",
    "\n",
    "* This is bullet 1\n",
    "* Markdown is rendered when running this cell.\n"
   ]
  },
  {
   "cell_type": "code",
   "execution_count": 2,
   "metadata": {
    "scrolled": true
   },
   "outputs": [
    {
     "data": {
      "text/plain": [
       "2"
      ]
     },
     "execution_count": 2,
     "metadata": {},
     "output_type": "execute_result"
    }
   ],
   "source": [
    "1+1"
   ]
  },
  {
   "cell_type": "code",
   "execution_count": 3,
   "metadata": {},
   "outputs": [
    {
     "name": "stdout",
     "output_type": "stream",
     "text": [
      "9\n"
     ]
    }
   ],
   "source": [
    "a = 2 + 3\n",
    "b = a + 4\n",
    "print(b)"
   ]
  },
  {
   "cell_type": "code",
   "execution_count": 4,
   "metadata": {},
   "outputs": [],
   "source": [
    "import numpy\n",
    "\n"
   ]
  },
  {
   "cell_type": "markdown",
   "metadata": {},
   "source": [
    "Run a bash command, like list all installed python packages"
   ]
  },
  {
   "cell_type": "code",
   "execution_count": 5,
   "metadata": {},
   "outputs": [
    {
     "name": "stdout",
     "output_type": "stream",
     "text": [
      "Package            Version  \n",
      "------------------ ---------\n",
      "asteval            0.9.11   \n",
      "astroid            1.6.1    \n",
      "beautifulsoup4     4.6.0    \n",
      "bleach             2.1.1    \n",
      "bs4                0.0.1    \n",
      "certifi            2017.11.5\n",
      "chardet            3.0.4    \n",
      "colorama           0.3.9    \n",
      "cycler             0.10.0   \n",
      "DBUtils            1.2      \n",
      "decorator          4.1.2    \n",
      "Django             2.0.3    \n",
      "entrypoints        0.2.3    \n",
      "future             0.16.0   \n",
      "html5lib           1.0b10   \n",
      "idna               2.6      \n",
      "image              1.5.19   \n",
      "ipykernel          4.6.1    \n",
      "ipython            6.2.1    \n",
      "ipython-genutils   0.2.0    \n",
      "ipywidgets         7.0.5    \n",
      "isort              4.3.4    \n",
      "jedi               0.11.0   \n",
      "Jinja2             2.10     \n",
      "jsonschema         2.6.0    \n",
      "jupyter            1.0.0    \n",
      "jupyter-client     5.1.0    \n",
      "jupyter-console    5.2.0    \n",
      "jupyter-core       4.4.0    \n",
      "lazy-object-proxy  1.3.1    \n",
      "MarkupSafe         1.0      \n",
      "matplotlib         2.1.0    \n",
      "mccabe             0.6.1    \n",
      "mistune            0.8.1    \n",
      "mpmath             1.0.0    \n",
      "nbconvert          5.3.1    \n",
      "nbformat           4.4.0    \n",
      "nltk               3.2.5    \n",
      "nose               1.3.7    \n",
      "notebook           5.2.1    \n",
      "numpy              1.13.3   \n",
      "opencv-python      3.4.0.12 \n",
      "pandas             0.21.0   \n",
      "pandocfilters      1.4.2    \n",
      "parso              0.1.0    \n",
      "pdfminer.six       20170720 \n",
      "pickleshare        0.7.4    \n",
      "Pillow             5.0.0    \n",
      "pip                10.0.1   \n",
      "ply                3.11     \n",
      "prettytable        0.7.2    \n",
      "prompt-toolkit     1.0.15   \n",
      "psutil             5.4.3    \n",
      "py                 1.5.2    \n",
      "pybind11           2.2.2    \n",
      "pycryptodome       3.5.1    \n",
      "Pygments           2.2.0    \n",
      "pylint             1.8.2    \n",
      "PyMySQL            0.8.0    \n",
      "pyparsing          2.2.0    \n",
      "pyproj             1.9.5.1  \n",
      "pytest             3.2.5    \n",
      "python-dateutil    2.6.1    \n",
      "python-example     0.0.1    \n",
      "pytz               2017.3   \n",
      "pyzmq              16.0.3   \n",
      "qtconsole          4.3.1    \n",
      "requests           2.18.4   \n",
      "scikit-learn       0.19.1   \n",
      "scipy              1.0.0    \n",
      "setuptools         28.8.0   \n",
      "simplegeneric      0.8.1    \n",
      "six                1.11.0   \n",
      "sklearn            0.0      \n",
      "sympy              1.1.1    \n",
      "tabula-py          1.0.0    \n",
      "testpath           0.3.1    \n",
      "tornado            4.5.2    \n",
      "traitlets          4.3.2    \n",
      "urllib3            1.22     \n",
      "validictory        1.1.2    \n",
      "Wand               0.4.4    \n",
      "wcwidth            0.1.7    \n",
      "webencodings       0.5.1    \n",
      "widgetsnbextension 3.0.8    \n",
      "wrapt              1.10.11  \n"
     ]
    }
   ],
   "source": [
    "!pip list"
   ]
  },
  {
   "cell_type": "code",
   "execution_count": 7,
   "metadata": {},
   "outputs": [
    {
     "name": "stdout",
     "output_type": "stream",
     "text": [
      " Volume in drive D is New Volume\n",
      " Volume Serial Number is 209C-41F0\n",
      "\n",
      " Directory of d:\\repos\\jupyter_test\n",
      "\n",
      "06/20/2018  07:25 PM    <DIR>          .\n",
      "06/20/2018  07:25 PM    <DIR>          ..\n",
      "06/20/2018  07:17 PM    <DIR>          .ipynb_checkpoints\n",
      "06/20/2018  07:25 PM             1,737 Tests.ipynb\n",
      "               1 File(s)          1,737 bytes\n",
      "               3 Dir(s)  1,023,835,127,808 bytes free\n"
     ]
    }
   ],
   "source": [
    "! dir *.*"
   ]
  },
  {
   "cell_type": "code",
   "execution_count": 8,
   "metadata": {
    "scrolled": true
   },
   "outputs": [
    {
     "data": {
      "application/json": {
       "cell": {
        "!": "OSMagics",
        "HTML": "Other",
        "SVG": "Other",
        "bash": "Other",
        "capture": "ExecutionMagics",
        "cmd": "Other",
        "debug": "ExecutionMagics",
        "file": "Other",
        "html": "DisplayMagics",
        "javascript": "DisplayMagics",
        "js": "DisplayMagics",
        "latex": "DisplayMagics",
        "markdown": "DisplayMagics",
        "perl": "Other",
        "prun": "ExecutionMagics",
        "pypy": "Other",
        "python": "Other",
        "python2": "Other",
        "python3": "Other",
        "ruby": "Other",
        "script": "ScriptMagics",
        "sh": "Other",
        "svg": "DisplayMagics",
        "sx": "OSMagics",
        "system": "OSMagics",
        "time": "ExecutionMagics",
        "timeit": "ExecutionMagics",
        "writefile": "OSMagics"
       },
       "line": {
        "alias": "OSMagics",
        "alias_magic": "BasicMagics",
        "autocall": "AutoMagics",
        "automagic": "AutoMagics",
        "autosave": "KernelMagics",
        "bookmark": "OSMagics",
        "cd": "OSMagics",
        "clear": "KernelMagics",
        "cls": "KernelMagics",
        "colors": "BasicMagics",
        "config": "ConfigMagics",
        "connect_info": "KernelMagics",
        "copy": "Other",
        "ddir": "Other",
        "debug": "ExecutionMagics",
        "dhist": "OSMagics",
        "dirs": "OSMagics",
        "doctest_mode": "BasicMagics",
        "echo": "Other",
        "ed": "Other",
        "edit": "KernelMagics",
        "env": "OSMagics",
        "gui": "BasicMagics",
        "hist": "Other",
        "history": "HistoryMagics",
        "killbgscripts": "ScriptMagics",
        "ldir": "Other",
        "less": "KernelMagics",
        "load": "CodeMagics",
        "load_ext": "ExtensionMagics",
        "loadpy": "CodeMagics",
        "logoff": "LoggingMagics",
        "logon": "LoggingMagics",
        "logstart": "LoggingMagics",
        "logstate": "LoggingMagics",
        "logstop": "LoggingMagics",
        "ls": "Other",
        "lsmagic": "BasicMagics",
        "macro": "ExecutionMagics",
        "magic": "BasicMagics",
        "matplotlib": "PylabMagics",
        "mkdir": "Other",
        "more": "KernelMagics",
        "notebook": "BasicMagics",
        "page": "BasicMagics",
        "pastebin": "CodeMagics",
        "pdb": "ExecutionMagics",
        "pdef": "NamespaceMagics",
        "pdoc": "NamespaceMagics",
        "pfile": "NamespaceMagics",
        "pinfo": "NamespaceMagics",
        "pinfo2": "NamespaceMagics",
        "pip": "BasicMagics",
        "popd": "OSMagics",
        "pprint": "BasicMagics",
        "precision": "BasicMagics",
        "profile": "BasicMagics",
        "prun": "ExecutionMagics",
        "psearch": "NamespaceMagics",
        "psource": "NamespaceMagics",
        "pushd": "OSMagics",
        "pwd": "OSMagics",
        "pycat": "OSMagics",
        "pylab": "PylabMagics",
        "qtconsole": "KernelMagics",
        "quickref": "BasicMagics",
        "recall": "HistoryMagics",
        "rehashx": "OSMagics",
        "reload_ext": "ExtensionMagics",
        "ren": "Other",
        "rep": "Other",
        "rerun": "HistoryMagics",
        "reset": "NamespaceMagics",
        "reset_selective": "NamespaceMagics",
        "rmdir": "Other",
        "run": "ExecutionMagics",
        "save": "CodeMagics",
        "sc": "OSMagics",
        "set_env": "OSMagics",
        "store": "StoreMagics",
        "sx": "OSMagics",
        "system": "OSMagics",
        "tb": "ExecutionMagics",
        "time": "ExecutionMagics",
        "timeit": "ExecutionMagics",
        "unalias": "OSMagics",
        "unload_ext": "ExtensionMagics",
        "who": "NamespaceMagics",
        "who_ls": "NamespaceMagics",
        "whos": "NamespaceMagics",
        "xdel": "NamespaceMagics",
        "xmode": "BasicMagics"
       }
      },
      "text/plain": [
       "Available line magics:\n",
       "%alias  %alias_magic  %autocall  %automagic  %autosave  %bookmark  %cd  %clear  %cls  %colors  %config  %connect_info  %copy  %ddir  %debug  %dhist  %dirs  %doctest_mode  %echo  %ed  %edit  %env  %gui  %hist  %history  %killbgscripts  %ldir  %less  %load  %load_ext  %loadpy  %logoff  %logon  %logstart  %logstate  %logstop  %ls  %lsmagic  %macro  %magic  %matplotlib  %mkdir  %more  %notebook  %page  %pastebin  %pdb  %pdef  %pdoc  %pfile  %pinfo  %pinfo2  %popd  %pprint  %precision  %profile  %prun  %psearch  %psource  %pushd  %pwd  %pycat  %pylab  %qtconsole  %quickref  %recall  %rehashx  %reload_ext  %ren  %rep  %rerun  %reset  %reset_selective  %rmdir  %run  %save  %sc  %set_env  %store  %sx  %system  %tb  %time  %timeit  %unalias  %unload_ext  %who  %who_ls  %whos  %xdel  %xmode\n",
       "\n",
       "Available cell magics:\n",
       "%%!  %%HTML  %%SVG  %%bash  %%capture  %%cmd  %%debug  %%file  %%html  %%javascript  %%js  %%latex  %%markdown  %%perl  %%prun  %%pypy  %%python  %%python2  %%python3  %%ruby  %%script  %%sh  %%svg  %%sx  %%system  %%time  %%timeit  %%writefile\n",
       "\n",
       "Automagic is ON, % prefix IS NOT needed for line magics."
      ]
     },
     "execution_count": 8,
     "metadata": {},
     "output_type": "execute_result"
    }
   ],
   "source": [
    "%lsmagic"
   ]
  },
  {
   "cell_type": "code",
   "execution_count": 17,
   "metadata": {},
   "outputs": [
    {
     "data": {
      "image/png": "[encoded data removed]",
      "text/plain": [
       "<matplotlib.figure.Figure at 0x1f2a2ef5780>"
      ]
     },
     "metadata": {},
     "output_type": "display_data"
    }
   ],
   "source": [
    "import numpy as np\n",
    "import matplotlib.pyplot as plt\n",
    "\n",
    "N = 50\n",
    "x = np.random.rand(N)\n",
    "y = np.random.rand(N)\n",
    "colors = np.random.rand(N)\n",
    "area = np.pi * (15 * np.random.rand(N)) ** 2\n",
    "\n",
    "plt.scatter(x,y, s=area, c=colors, alpha=0.5)\n",
    "plt.show()\n",
    "\n",
    "\n"
   ]
  },
  {
   "cell_type": "code",
   "execution_count": 18,
   "metadata": {},
   "outputs": [
    {
     "name": "stdout",
     "output_type": "stream",
     "text": [
      "57.6 µs ± 262 ns per loop (mean ± std. dev. of 7 runs, 10000 loops each)\n"
     ]
    }
   ],
   "source": [
    "%%timeit\n",
    "square_evens = [n*n for n in range(1000)]"
   ]
  },
  {
   "cell_type": "code",
   "execution_count": 21,
   "metadata": {},
   "outputs": [
    {
     "data": {
      "text/html": [
       "<div>\n",
       "<style scoped>\n",
       "    .dataframe tbody tr th:only-of-type {\n",
       "        vertical-align: middle;\n",
       "    }\n",
       "\n",
       "    .dataframe tbody tr th {\n",
       "        vertical-align: top;\n",
       "    }\n",
       "\n",
       "    .dataframe thead th {\n",
       "        text-align: right;\n",
       "    }\n",
       "</style>\n",
       "<table border=\"1\" class=\"dataframe\">\n",
       "  <thead>\n",
       "    <tr style=\"text-align: right;\">\n",
       "      <th></th>\n",
       "      <th>0</th>\n",
       "      <th>1</th>\n",
       "      <th>2</th>\n",
       "      <th>3</th>\n",
       "      <th>4</th>\n",
       "    </tr>\n",
       "  </thead>\n",
       "  <tbody>\n",
       "    <tr>\n",
       "      <th>0</th>\n",
       "      <td>-0.052675</td>\n",
       "      <td>-0.968590</td>\n",
       "      <td>0.847970</td>\n",
       "      <td>0.682912</td>\n",
       "      <td>0.070425</td>\n",
       "    </tr>\n",
       "    <tr>\n",
       "      <th>1</th>\n",
       "      <td>-1.209842</td>\n",
       "      <td>-0.719041</td>\n",
       "      <td>1.468675</td>\n",
       "      <td>1.670004</td>\n",
       "      <td>1.479859</td>\n",
       "    </tr>\n",
       "    <tr>\n",
       "      <th>2</th>\n",
       "      <td>-1.444990</td>\n",
       "      <td>-0.501711</td>\n",
       "      <td>0.828756</td>\n",
       "      <td>-0.993443</td>\n",
       "      <td>-0.499253</td>\n",
       "    </tr>\n",
       "    <tr>\n",
       "      <th>3</th>\n",
       "      <td>0.078463</td>\n",
       "      <td>-0.194836</td>\n",
       "      <td>0.526286</td>\n",
       "      <td>1.017728</td>\n",
       "      <td>-1.070978</td>\n",
       "    </tr>\n",
       "    <tr>\n",
       "      <th>4</th>\n",
       "      <td>-0.494123</td>\n",
       "      <td>-1.461839</td>\n",
       "      <td>0.198740</td>\n",
       "      <td>-0.194543</td>\n",
       "      <td>0.010890</td>\n",
       "    </tr>\n",
       "    <tr>\n",
       "      <th>5</th>\n",
       "      <td>0.537059</td>\n",
       "      <td>-0.271848</td>\n",
       "      <td>-0.244853</td>\n",
       "      <td>-1.217313</td>\n",
       "      <td>0.920433</td>\n",
       "    </tr>\n",
       "    <tr>\n",
       "      <th>6</th>\n",
       "      <td>-0.241506</td>\n",
       "      <td>-0.386596</td>\n",
       "      <td>-0.962932</td>\n",
       "      <td>-2.019114</td>\n",
       "      <td>0.629547</td>\n",
       "    </tr>\n",
       "    <tr>\n",
       "      <th>7</th>\n",
       "      <td>0.519820</td>\n",
       "      <td>-0.828253</td>\n",
       "      <td>0.147519</td>\n",
       "      <td>-0.064484</td>\n",
       "      <td>-0.630446</td>\n",
       "    </tr>\n",
       "    <tr>\n",
       "      <th>8</th>\n",
       "      <td>0.546292</td>\n",
       "      <td>0.954719</td>\n",
       "      <td>0.503381</td>\n",
       "      <td>-1.096518</td>\n",
       "      <td>-0.523537</td>\n",
       "    </tr>\n",
       "    <tr>\n",
       "      <th>9</th>\n",
       "      <td>-0.444686</td>\n",
       "      <td>-1.775760</td>\n",
       "      <td>0.260819</td>\n",
       "      <td>-0.791559</td>\n",
       "      <td>0.515189</td>\n",
       "    </tr>\n",
       "  </tbody>\n",
       "</table>\n",
       "</div>"
      ],
      "text/plain": [
       "          0         1         2         3         4\n",
       "0 -0.052675 -0.968590  0.847970  0.682912  0.070425\n",
       "1 -1.209842 -0.719041  1.468675  1.670004  1.479859\n",
       "2 -1.444990 -0.501711  0.828756 -0.993443 -0.499253\n",
       "3  0.078463 -0.194836  0.526286  1.017728 -1.070978\n",
       "4 -0.494123 -1.461839  0.198740 -0.194543  0.010890\n",
       "5  0.537059 -0.271848 -0.244853 -1.217313  0.920433\n",
       "6 -0.241506 -0.386596 -0.962932 -2.019114  0.629547\n",
       "7  0.519820 -0.828253  0.147519 -0.064484 -0.630446\n",
       "8  0.546292  0.954719  0.503381 -1.096518 -0.523537\n",
       "9 -0.444686 -1.775760  0.260819 -0.791559  0.515189"
      ]
     },
     "execution_count": 21,
     "metadata": {},
     "output_type": "execute_result"
    }
   ],
   "source": [
    "import pandas as pd\n",
    "import numpy as np\n",
    "\n",
    "df = pd.DataFrame(np.random.randn(10,5))\n",
    "df\n",
    "\n"
   ]
  },
  {
   "cell_type": "code",
   "execution_count": 22,
   "metadata": {},
   "outputs": [
    {
     "data": {
      "text/plain": [
       "array([ 0.82764782,  0.90601484,  0.60971557,  0.77480568,  0.50027926,\n",
       "        0.01677382,  0.23596288,  0.71960753,  0.99555565])"
      ]
     },
     "execution_count": 22,
     "metadata": {},
     "output_type": "execute_result"
    }
   ],
   "source": [
    "a = np.random.rand(9)\n",
    "a"
   ]
  },
  {
   "cell_type": "markdown",
   "metadata": {},
   "source": [
    "For adding widgets have a look [here](https://github.com/jupyter-widgets/ipywidgets). Also code can be offloaded from a different notebook to hide UI code. [tutorial](https://www.youtube.com/watch?v=aFeGRFWwelQ)"
   ]
  }
 ],
 "metadata": {
  "kernelspec": {
   "display_name": "Python 3",
   "language": "python",
   "name": "python3"
  },
  "language_info": {
   "codemirror_mode": {
    "name": "ipython",
    "version": 3
   },
   "file_extension": ".py",
   "mimetype": "text/x-python",
   "name": "python",
   "nbconvert_exporter": "python",
   "pygments_lexer": "ipython3",
   "version": "3.6.3"
  }
 },
 "nbformat": 4,
 "nbformat_minor": 2
}
