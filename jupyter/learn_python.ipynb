{
 "cells": [
  {
   "cell_type": "markdown",
   "metadata": {},
   "source": [
    "# Let's learn python with jupyter\n",
    "\n",
    "A few handy keystrokes:\n",
    "\n",
    "* Ctrl+Shift+P will show the commands palette\n",
    "\n",
    "First import some packages"
   ]
  },
  {
   "cell_type": "code",
   "execution_count": 5,
   "metadata": {},
   "outputs": [],
   "source": [
    "import numpy as np\n",
    "import matplotlib.pyplot as plt"
   ]
  },
  {
   "cell_type": "markdown",
   "metadata": {},
   "source": [
    "In jupyter the alias `np` can be reused in the cells below. Let's create an array of 9 random values."
   ]
  },
  {
   "cell_type": "code",
   "execution_count": 2,
   "metadata": {},
   "outputs": [
    {
     "name": "stdout",
     "output_type": "stream",
     "text": [
      "[ 0.93577428  0.69981515  0.16801573  0.94714076  0.62956947  0.47830745\n",
      "  0.60201972  0.89424687  0.169386  ]\n",
      "my random bit array: [0 1 0 0 1 0 1 0 0 0 1 0 1 0 1 1 1 1 1 0]\n"
     ]
    }
   ],
   "source": [
    "a = np.random.rand(9)\n",
    "print(a)\n",
    "\n",
    "# uniform distribution with 20 random integers in the range of [0,1]\n",
    "b = np.random.randint(2, size=20)\n",
    "\n",
    "# print a prefix before an array\n",
    "print('my random bit array: ', end=\"\")\n",
    "print(b)"
   ]
  },
  {
   "cell_type": "code",
   "execution_count": 40,
   "metadata": {},
   "outputs": [
    {
     "data": {
      "text/plain": [
       "array([[148,   5,  44, 126, 163, 104,  92,  60, 132,  53, 172,  73,  63,\n",
       "        184,  43,   4],\n",
       "       [100, 160, 113,  77, 113, 101, 110, 168,  54, 142,  53,  62, 111,\n",
       "        156,  37, 183],\n",
       "       [ 50,  74, 123,  96, 131, 180, 166,  46,  22, 194,  23, 196,  97,\n",
       "         53, 131,  72],\n",
       "       [ 25,  21, 189,  49,  47, 190,  81,  54,  29, 189,  32, 157, 183,\n",
       "        189, 101, 147],\n",
       "       [ 10, 106, 145,  60, 102,  52, 111,  76,  55,  38,  12, 176, 151,\n",
       "         13,  60,  96],\n",
       "       [ 57,  55, 147, 190,  62,  91, 142, 179, 197, 160,  20,  44, 171,\n",
       "        186, 168,   4],\n",
       "       [169, 150,  74, 141,  31,  73, 186, 115, 176,  47, 167,  54,  57,\n",
       "        157,  89,  52],\n",
       "       [186, 126,  27, 167,   1,  64,   8, 160, 178,  26,  89,  41,  54,\n",
       "         21, 103,   4],\n",
       "       [137, 152,  70, 102, 178, 131,  14,  46, 124, 161,  32,  70, 197,\n",
       "         88,  18, 165],\n",
       "       [ 87,  26,  83,  49,  33, 106, 104,  18, 161, 159, 146, 152, 148,\n",
       "        108,  82,  87],\n",
       "       [ 73,  13,  55, 199,  97,  71,  44,  78,  46,  80, 122, 135,  13,\n",
       "        176, 135,  70],\n",
       "       [130,  72, 106, 171, 184,  70, 198, 160, 110, 135,   6, 171,  11,\n",
       "         88,  55, 123],\n",
       "       [  6, 130, 198,  38, 134,  33, 103, 129,  99, 168,  22,  46, 138,\n",
       "        102, 149,  12],\n",
       "       [ 30, 175,   2, 143, 160,  43,   6,  61, 181,  21, 111, 141, 131,\n",
       "        178,  15,  49],\n",
       "       [ 34, 151, 172,  81,   1, 145, 174, 155, 157,  71,  16,  22,  41,\n",
       "        106,  31,  99],\n",
       "       [131,  40, 150,  12, 193, 140, 168,  16, 125,  24, 160,  80, 199,\n",
       "        136, 186,  90]])"
      ]
     },
     "execution_count": 40,
     "metadata": {},
     "output_type": "execute_result"
    }
   ],
   "source": [
    "c = np.random.randint(0,200,(16,16))\n",
    "c"
   ]
  },
  {
   "cell_type": "code",
   "execution_count": 41,
   "metadata": {},
   "outputs": [
    {
     "data": {
      "image/png": "[encoded data removed]",
      "text/plain": [
       "<matplotlib.figure.Figure at 0x1f0d1d8bef0>"
      ]
     },
     "metadata": {},
     "output_type": "display_data"
    }
   ],
   "source": [
    "plt.imshow(c, cmap='hot')\n",
    "plt.show()"
   ]
  }
 ],
 "metadata": {
  "kernelspec": {
   "display_name": "Python 3",
   "language": "python",
   "name": "python3"
  },
  "language_info": {
   "codemirror_mode": {
    "name": "ipython",
    "version": 3
   },
   "file_extension": ".py",
   "mimetype": "text/x-python",
   "name": "python",
   "nbconvert_exporter": "python",
   "pygments_lexer": "ipython3",
   "version": "3.6.3"
  }
 },
 "nbformat": 4,
 "nbformat_minor": 2
}
